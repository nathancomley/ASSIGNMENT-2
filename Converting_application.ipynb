{
  "nbformat": 4,
  "nbformat_minor": 0,
  "metadata": {
    "colab": {
      "name": "Converting_application.ipynb",
      "provenance": [],
      "collapsed_sections": [],
      "authorship_tag": "ABX9TyNSEW0rAW8otFLRSz+3Df3H",
      "include_colab_link": true
    },
    "kernelspec": {
      "name": "python3",
      "display_name": "Python 3"
    },
    "language_info": {
      "name": "python"
    }
  },
  "cells": [
    {
      "cell_type": "markdown",
      "metadata": {
        "id": "view-in-github",
        "colab_type": "text"
      },
      "source": [
        "<a href=\"https://colab.research.google.com/github/nathancomley/ASSIGNMENT-2/blob/main/Converting_application.ipynb\" target=\"_parent\"><img src=\"https://colab.research.google.com/assets/colab-badge.svg\" alt=\"Open In Colab\"/></a>"
      ]
    },
    {
      "cell_type": "markdown",
      "source": [
        "##This program will use industry best practices the is: \n",
        "\n",
        "(Information found on The Calculator Walkthrough notebook and calculator – good design).\n",
        "\n",
        "1. Use a code repository (GitHub, small frequent commits)\n",
        "2. Following the style guidelines (PEP8)\n",
        "3. Correct broken code immediately (exception handling, input validation, testing)\n",
        "4. Use the imported modules instead of doing it yourself \n",
        "5. Use the Right Data Types and Structures\n",
        "6. Write meaningful Code\n",
        "7. Create readable documentation (Docstrings)\n"
      ],
      "metadata": {
        "id": "lF1TlBgrCqsn"
      }
    },
    {
      "cell_type": "markdown",
      "source": [
        "##This Program will also be created using the 5-step methodology. This is listed below:\n",
        "\n",
        "1.State the problem clearly\n",
        "\n",
        "2.Describe the input and output information\n",
        "\n",
        "3.Work the problem by hand\n",
        "\n",
        "4.Develop an algorithm (and convert it to python)\n",
        "\n",
        "5.Test solution with a variety of data\n"
      ],
      "metadata": {
        "id": "13GwActZEXJl"
      }
    },
    {
      "cell_type": "markdown",
      "source": [
        "##1.State the problem clearly.\n",
        "\n",
        "A money converter is used to convert one currency to another. Our problem in this case, is to convert YEN to AUD and to covert USD to AUD.\n",
        "\n",
        "The purpose of this is to help tourists visiting Australia.\n"
      ],
      "metadata": {
        "id": "qrnSUM6zE66u"
      }
    },
    {
      "cell_type": "markdown",
      "source": [
        "##2.Describe the input and outputs\n",
        "\n",
        "###Inputs:\n",
        "-\tWhich currency the user wants to convert into AUD (YEN OR USD?).\n",
        "-\tThe amount of money that the user wants to convert to AUD.\n",
        "\n",
        "###Outputs:\n",
        "-\tMenu that displays the options of currency (YEN or USD).\n",
        "-\tThe result of choosing a currency to convert from and an amount (Your amount in AUD is $....).\n"
      ],
      "metadata": {
        "id": "2z1gRzhOFGMU"
      }
    },
    {
      "cell_type": "markdown",
      "source": [
        "##3.Working a problem by hand.\n",
        "\n",
        "Here I will calculate some results by hand. This will give me a solid Idea of what results my inputs will yield. I have included some potential inputs in the table below.\n",
        "\n",
        "####For YEN:\n",
        "\n",
        "| Example | Expected    |   | | | |\n",
        "|--------|---------|----------|----------|--------|-----------|\n",
        "|  4000 * 0.010     | 40   |     |        |        |           |\n",
        "|  6000 * 0.010    | 60   |       |        |        |           |\n",
        "|  400 * 0.010     | 4   |-     |        |        |           |\n",
        "|  6500 * 0.010    | 65   |   |       |        |           |\n"
      ],
      "metadata": {
        "id": "Ba6gS8W7FiWR"
      }
    },
    {
      "cell_type": "markdown",
      "source": [
        "###For USD:\n",
        "\n",
        "| Example | Expected    |   | | | |\n",
        "|--------|---------|----------|----------|--------|-----------|\n",
        "|  40 / 1.38     | 28.99   |     |        |        |           |\n",
        "|  100 / 1.38      | 72.46   |       |        |        |           |\n",
        "|  70 / 1.38       | 50.72   |-     |        |        |           |\n",
        "|  15 / 1.38      | 10.87   |   |       |        |           |"
      ],
      "metadata": {
        "id": "O1kOAnEhIK8T"
      }
    },
    {
      "cell_type": "markdown",
      "source": [
        "##4.Develop an algorithm (and convert it to python).\n",
        "In pseudocode:\n",
        "\n",
        "Create a function.\n",
        "\n",
        "###DISPLAY\n",
        "\n",
        "What currency would you like to convert to AUD?:\t\n",
        " \n",
        " -YEN\n",
        " \t\n",
        "   Or\n",
        " \n",
        " -USD\n",
        " \t\n",
        "  Get answer from user and store in operator\n",
        " \n",
        " \n",
        "###PROMPT\n",
        " \n",
        " \n",
        " Prompt the user for the amount of money and store it in number.\n",
        "\n",
        "\n",
        "if operator equals 'YEN'\n",
        " \t\n",
        "   then times number by 0.010\n",
        "\n",
        "else if operation equals 'USD'\n",
        "  \t\n",
        "   then divide number by 1.38.\n",
        "\n",
        "###Store\n",
        "\t \n",
        "   result of performing this operation.\n",
        "\n",
        "###Print\n",
        "\t \n",
        "   Show the result to the user ( *Amount*, converted to AUD is $, *result* )\n"
      ],
      "metadata": {
        "id": "vOQhKjQLOMjS"
      }
    },
    {
      "cell_type": "markdown",
      "source": [
        "##Writing this in python\n",
        "\n",
        "Because I was using a lot of prompts to get input from the user, I chose to use and import a module that was already created. This module was found on https://pypi.org/project/PyInputPlus/.\n",
        "\n",
        "I chose to do this as this module can re-prompting the user if they enter an invalid input. \n",
        "\n",
        "Bellow is my code along information on what is occurring.\n"
      ],
      "metadata": {
        "id": "O6BAs1A3O-AT"
      }
    },
    {
      "cell_type": "code",
      "source": [
        "#Requirements\n",
        "\n",
        "!pip -q install install PyInputPlus"
      ],
      "metadata": {
        "colab": {
          "base_uri": "https://localhost:8080/"
        },
        "id": "41zYEoMxdO-Q",
        "outputId": "d0445f8b-12cb-47f1-d796-c1082dc9d905"
      },
      "execution_count": 1,
      "outputs": [
        {
          "output_type": "stream",
          "name": "stdout",
          "text": [
            "  Installing build dependencies ... \u001b[?25l\u001b[?25hdone\n",
            "  Getting requirements to build wheel ... \u001b[?25l\u001b[?25hdone\n",
            "    Preparing wheel metadata ... \u001b[?25l\u001b[?25hdone\n",
            "  Installing build dependencies ... \u001b[?25l\u001b[?25hdone\n",
            "  Getting requirements to build wheel ... \u001b[?25l\u001b[?25hdone\n",
            "    Preparing wheel metadata ... \u001b[?25l\u001b[?25hdone\n",
            "  Installing build dependencies ... \u001b[?25l\u001b[?25hdone\n",
            "  Getting requirements to build wheel ... \u001b[?25l\u001b[?25hdone\n",
            "    Preparing wheel metadata ... \u001b[?25l\u001b[?25hdone\n",
            "  Building wheel for PyInputPlus (PEP 517) ... \u001b[?25l\u001b[?25hdone\n",
            "  Building wheel for pysimplevalidate (PEP 517) ... \u001b[?25l\u001b[?25hdone\n",
            "  Building wheel for stdiomask (PEP 517) ... \u001b[?25l\u001b[?25hdone\n"
          ]
        }
      ]
    },
    {
      "cell_type": "code",
      "source": [
        "#Creating a function\n",
        "\n",
        "''' \n",
        "This program will prompt the user to select a currency and input the amount of money they want to convert to AUD. \n",
        "The program will then convert the amount entered to AUD and output the result. \n",
        "The user will be able to continue performing conversion or stop. The Currencies that can be converted is:\n",
        "   * YEN,\n",
        "   * USD\n",
        "'''\n",
        "import pyinputplus as pyip\n",
        "\n",
        "def Money_Converter():\n",
        "  print(\"Welcome to money converter\")\n",
        "  while True:\n",
        "  # Display the menu and get the users to select the currency\n",
        "    choices = ['YEN','USD']\n",
        "    prompt = \"What currency would you like to convert to AUD? \\n\"\n",
        "    operator = pyip.inputMenu(choices, prompt=prompt)\n",
        "\n",
        "  # Get the Amount of money\n",
        "    number = pyip.inputNum(\"Please enter the amount of money \")\n",
        "  \n",
        "\n",
        "  # Perform the operation\n",
        "    if operator == 'YEN':\n",
        "      result = number * float(0.010)\n",
        "      template = '{} YEN  {} = ${}'\n",
        "    elif operator == 'USD':\n",
        "      result = number / float(1.38)\n",
        "      template = '{} USD  {} = ${}'\n",
        " \n",
        " #show result.\n",
        "    print(template.format(number, \"converted to AUD is\", result))\n",
        "    break"
      ],
      "metadata": {
        "id": "HV6sp7LA0ljr"
      },
      "execution_count": 2,
      "outputs": []
    },
    {
      "cell_type": "code",
      "source": [
        "# To use this converter, please run this cell.\n",
        "Money_Converter()"
      ],
      "metadata": {
        "colab": {
          "base_uri": "https://localhost:8080/"
        },
        "id": "eX230ALuQsyt",
        "outputId": "334afed4-2b26-414b-b7fb-c08bbb05f833"
      },
      "execution_count": 7,
      "outputs": [
        {
          "output_type": "stream",
          "name": "stdout",
          "text": [
            "Welcome to money converter\n",
            "What currency would you like to convert to AUD? \n",
            "* YEN\n",
            "* USD\n",
            "USD\n",
            "Please enter the amount of money 50\n",
            "50 USD  converted to AUD is = $36.231884057971016\n"
          ]
        }
      ]
    }
  ]
}