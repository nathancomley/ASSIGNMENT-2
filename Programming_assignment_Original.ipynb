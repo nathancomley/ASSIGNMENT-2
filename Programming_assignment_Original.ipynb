{
  "nbformat": 4,
  "nbformat_minor": 0,
  "metadata": {
    "colab": {
      "name": "Programming assignment Original.ipynb",
      "provenance": [],
      "collapsed_sections": [],
      "authorship_tag": "ABX9TyNuxulewg0eFcb+3WIvH5a5",
      "include_colab_link": true
    },
    "kernelspec": {
      "name": "python3",
      "display_name": "Python 3"
    },
    "language_info": {
      "name": "python"
    }
  },
  "cells": [
    {
      "cell_type": "markdown",
      "metadata": {
        "id": "view-in-github",
        "colab_type": "text"
      },
      "source": [
        "<a href=\"https://colab.research.google.com/github/nathancomley/ASSIGNMENT-2/blob/main/Programming_assignment_Original.ipynb\" target=\"_parent\"><img src=\"https://colab.research.google.com/assets/colab-badge.svg\" alt=\"Open In Colab\"/></a>"
      ]
    },
    {
      "cell_type": "markdown",
      "source": [
        "#The Enron Email analysis.\n",
        "*By Nathan Comley*\n",
        "> 20614672\n",
        "\n",
        "##Introduction.\n",
        "Enron was an energy company that was formed in 1985 which experienced a disgraceful fall leading to bankruptcy in 2002 (Segal 2021).\n",
        "Enron began out as an energy company that had had its own network of pipelines for natural gas, later in the start of the 90’s decade Enron decided to shift their business model to focus on making energy deals as a supplier of energy rather than a producer (Bondarenko 2021). This effectively allowed Enron to be somewhat of a ‘middle-man’ between the producers and the customers of natural gas (Bondarenko 2021). \n",
        "\n",
        "Along with this change came massive success for the company with Enron growing to be one of the largest firms in America consisting of thousands of employees and over 60 billion dollars in assets (Bondarenko 2021) (Segal 2021). Considering this information, the power and influence of this company becomes very apparent which makes the effects of their actions even more devastating and widespread.\n",
        "\n",
        "Under the leadership of Jeffery Skilling, Enron was committing fraud. Specifically, through misleading shareholders into believing that their income profits where higher than they were (Bondarenko 2021).\n",
        "\n",
        "After the shocking and sudden resignation of Jeffery Skilling a major red flag was raised, and analyst started to uncover the wrong doings of the Enron executives (Bondarenko 2021). Shortly after in late 2001 Enron would file for bankruptcy leaving a profound effect on the market and the thousands of innocent employees that was hired by Enron (Bondarenko 2021).\n",
        "\n",
        "Although a tragic and scandalous display of corporate greed, A valuable dataset of emails between different Enron executives were left behind and exposed to the public by the Federal Energy Regulatory Commission (Diesner et al 2005).  This email set would prove helpful for the future and for prosecutions of Enron executives.\n",
        "\n",
        "\n",
        "This specific business report will be focusing on analysing who the top ten emailers of the organisation are and the number of messages each day by date.\n"
      ],
      "metadata": {
        "id": "0xblZTQe8MVV"
      }
    },
    {
      "cell_type": "markdown",
      "source": [
        "##Analysis of the top ten email senders.\n",
        "\n",
        "In this section a graph will be displayed though a series of code cells, this graph will then be analysed.\n",
        "Please run the code cells in ascending order. The text in green will explain what each set of code is doing.\n",
        "\n",
        "\n",
        "> Please run the code cells in **ascending** order. The text in **green** will explain what each set of code is doing.\n",
        "\n",
        "\n",
        "\n"
      ],
      "metadata": {
        "id": "Vl7-YGeUxyHm"
      }
    },
    {
      "cell_type": "code",
      "source": [
        ""
      ],
      "metadata": {
        "id": "gxL-vkUtzx3u"
      },
      "execution_count": null,
      "outputs": []
    }
  ]
}